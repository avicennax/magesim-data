{
 "cells": [
  {
   "cell_type": "code",
   "execution_count": 6,
   "id": "99a7c6c8",
   "metadata": {},
   "outputs": [],
   "source": [
    "import pandas as pd\n",
    "import seaborn as sns\n",
    "import matplotlib.pyplot as plt"
   ]
  },
  {
   "cell_type": "markdown",
   "id": "c5d01321",
   "metadata": {},
   "source": [
    "There is some sampling error in the full set since I didn't wait for elemental's mana pool size to update ... Sample 2 is the most reliable here."
   ]
  },
  {
   "cell_type": "code",
   "execution_count": 12,
   "id": "2d81085d",
   "metadata": {},
   "outputs": [],
   "source": [
    "sample_2 = pd.read_csv(\"../data/manual/mana/sample_2.csv\")"
   ]
  },
  {
   "cell_type": "code",
   "execution_count": 15,
   "id": "3321292f",
   "metadata": {},
   "outputs": [
    {
     "data": {
      "text/html": [
       "<div>\n",
       "<style scoped>\n",
       "    .dataframe tbody tr th:only-of-type {\n",
       "        vertical-align: middle;\n",
       "    }\n",
       "\n",
       "    .dataframe tbody tr th {\n",
       "        vertical-align: top;\n",
       "    }\n",
       "\n",
       "    .dataframe thead th {\n",
       "        text-align: right;\n",
       "    }\n",
       "</style>\n",
       "<table border=\"1\" class=\"dataframe\">\n",
       "  <thead>\n",
       "    <tr style=\"text-align: right;\">\n",
       "      <th></th>\n",
       "      <th>mage</th>\n",
       "      <th>elem</th>\n",
       "    </tr>\n",
       "  </thead>\n",
       "  <tbody>\n",
       "    <tr>\n",
       "      <th>0</th>\n",
       "      <td>8186</td>\n",
       "      <td>2988</td>\n",
       "    </tr>\n",
       "    <tr>\n",
       "      <th>1</th>\n",
       "      <td>7781</td>\n",
       "      <td>2988</td>\n",
       "    </tr>\n",
       "    <tr>\n",
       "      <th>2</th>\n",
       "      <td>7556</td>\n",
       "      <td>2949</td>\n",
       "    </tr>\n",
       "    <tr>\n",
       "      <th>3</th>\n",
       "      <td>7451</td>\n",
       "      <td>2914</td>\n",
       "    </tr>\n",
       "    <tr>\n",
       "      <th>4</th>\n",
       "      <td>7211</td>\n",
       "      <td>2894</td>\n",
       "    </tr>\n",
       "    <tr>\n",
       "      <th>5</th>\n",
       "      <td>6866</td>\n",
       "      <td>2860</td>\n",
       "    </tr>\n",
       "    <tr>\n",
       "      <th>6</th>\n",
       "      <td>6761</td>\n",
       "      <td>2850</td>\n",
       "    </tr>\n",
       "    <tr>\n",
       "      <th>7</th>\n",
       "      <td>6476</td>\n",
       "      <td>2820</td>\n",
       "    </tr>\n",
       "    <tr>\n",
       "      <th>8</th>\n",
       "      <td>6086</td>\n",
       "      <td>2781</td>\n",
       "    </tr>\n",
       "    <tr>\n",
       "      <th>9</th>\n",
       "      <td>5666</td>\n",
       "      <td>2741</td>\n",
       "    </tr>\n",
       "    <tr>\n",
       "      <th>10</th>\n",
       "      <td>5366</td>\n",
       "      <td>2711</td>\n",
       "    </tr>\n",
       "    <tr>\n",
       "      <th>11</th>\n",
       "      <td>5141</td>\n",
       "      <td>2687</td>\n",
       "    </tr>\n",
       "    <tr>\n",
       "      <th>12</th>\n",
       "      <td>4931</td>\n",
       "      <td>2667</td>\n",
       "    </tr>\n",
       "    <tr>\n",
       "      <th>13</th>\n",
       "      <td>4766</td>\n",
       "      <td>2652</td>\n",
       "    </tr>\n",
       "  </tbody>\n",
       "</table>\n",
       "</div>"
      ],
      "text/plain": [
       "    mage  elem\n",
       "0   8186  2988\n",
       "1   7781  2988\n",
       "2   7556  2949\n",
       "3   7451  2914\n",
       "4   7211  2894\n",
       "5   6866  2860\n",
       "6   6761  2850\n",
       "7   6476  2820\n",
       "8   6086  2781\n",
       "9   5666  2741\n",
       "10  5366  2711\n",
       "11  5141  2687\n",
       "12  4931  2667\n",
       "13  4766  2652"
      ]
     },
     "execution_count": 15,
     "metadata": {},
     "output_type": "execute_result"
    }
   ],
   "source": [
    "sample_2"
   ]
  },
  {
   "cell_type": "code",
   "execution_count": 17,
   "id": "bfe0c527",
   "metadata": {},
   "outputs": [
    {
     "data": {
      "text/plain": [
       "<AxesSubplot:xlabel='mage', ylabel='elem'>"
      ]
     },
     "execution_count": 17,
     "metadata": {},
     "output_type": "execute_result"
    },
    {
     "data": {
      "image/png": "[encoded data removed]",
      "text/plain": [
       "<Figure size 504x504 with 1 Axes>"
      ]
     },
     "metadata": {
      "needs_background": "light"
     },
     "output_type": "display_data"
    }
   ],
   "source": [
    "plt.figure(figsize=(7,7))\n",
    "sns.regplot(data=sample_2, x='mage', y='elem')"
   ]
  },
  {
   "cell_type": "code",
   "execution_count": 21,
   "id": "631c2aa5",
   "metadata": {},
   "outputs": [
    {
     "data": {
      "text/plain": [
       "LinregressResult(slope=0.10325895875591616, intercept=2155.964180430793, rvalue=0.9960156598670213, pvalue=5.726899709713097e-14, stderr=0.0026688927798748253, intercept_stderr=17.44798695420739)"
      ]
     },
     "execution_count": 21,
     "metadata": {},
     "output_type": "execute_result"
    }
   ],
   "source": [
    "x, y = sample_2.mage, sample_2.elem\n",
    "stats.linregress(x, y)"
   ]
  },
  {
   "cell_type": "code",
   "execution_count": 18,
   "id": "88be913d",
   "metadata": {},
   "outputs": [
    {
     "data": {
      "text/plain": [
       "<AxesSubplot:xlabel='mage', ylabel='elem'>"
      ]
     },
     "execution_count": 18,
     "metadata": {},
     "output_type": "execute_result"
    },
    {
     "data": {
      "image/png": "[encoded data removed]",
      "text/plain": [
       "<Figure size 504x504 with 1 Axes>"
      ]
     },
     "metadata": {
      "needs_background": "light"
     },
     "output_type": "display_data"
    }
   ],
   "source": [
    "sample_2_under = sample_2[sample_2.mage < 7500]\n",
    "plt.figure(figsize=(7,7))\n",
    "sns.regplot(data=sample_2_under, x='mage', y='elem')"
   ]
  },
  {
   "cell_type": "markdown",
   "id": "583bccd4",
   "metadata": {},
   "source": [
    "Likely exactly linear scaling with some roundoff errors."
   ]
  },
  {
   "cell_type": "code",
   "execution_count": 19,
   "id": "1e7e65ad",
   "metadata": {},
   "outputs": [],
   "source": [
    "from scipy import stats"
   ]
  },
  {
   "cell_type": "code",
   "execution_count": 20,
   "id": "1430c3c8",
   "metadata": {},
   "outputs": [
    {
     "data": {
      "text/plain": [
       "LinregressResult(slope=0.09881242816189868, intercept=2180.3759982372685, rvalue=0.9999091211221519, pvalue=3.805759221013903e-18, stderr=0.0004440852977258294, intercept_stderr=2.7234214283272773)"
      ]
     },
     "execution_count": 20,
     "metadata": {},
     "output_type": "execute_result"
    }
   ],
   "source": [
    "x, y = sample_2_under.mage, sample_2_under.elem\n",
    "stats.linregress(x, y)"
   ]
  },
  {
   "cell_type": "markdown",
   "id": "9ad277d9",
   "metadata": {},
   "source": [
    "Let's look at all w/o dups."
   ]
  },
  {
   "cell_type": "code",
   "execution_count": 31,
   "id": "df0550b8",
   "metadata": {},
   "outputs": [],
   "source": [
    "no_dups = pd.read_csv(\"../data/manual/mana/no_dups.csv\")"
   ]
  },
  {
   "cell_type": "code",
   "execution_count": 32,
   "id": "84e16a18",
   "metadata": {},
   "outputs": [
    {
     "data": {
      "text/plain": [
       "<AxesSubplot:xlabel='mage', ylabel='elem'>"
      ]
     },
     "execution_count": 32,
     "metadata": {},
     "output_type": "execute_result"
    },
    {
     "data": {
      "image/png": "[encoded data removed]",
      "text/plain": [
       "<Figure size 504x504 with 1 Axes>"
      ]
     },
     "metadata": {
      "needs_background": "light"
     },
     "output_type": "display_data"
    }
   ],
   "source": [
    "plt.figure(figsize=(7,7))\n",
    "sns.regplot(data=no_dups, x='mage', y='elem')"
   ]
  },
  {
   "cell_type": "code",
   "execution_count": 43,
   "id": "1aa74e14",
   "metadata": {},
   "outputs": [],
   "source": [
    "x, y = no_dups.mage, no_dups.elem\n",
    "res = stats.linregress(x, y)"
   ]
  },
  {
   "cell_type": "code",
   "execution_count": 44,
   "id": "2004e4c8",
   "metadata": {},
   "outputs": [
    {
     "data": {
      "text/plain": [
       "LinregressResult(slope=0.10135404516622894, intercept=2170.6623964245186, rvalue=0.9930861653934877, pvalue=5.0174716227009106e-21, stderr=0.002614369918358633, intercept_stderr=17.404767683331094)"
      ]
     },
     "execution_count": 44,
     "metadata": {},
     "output_type": "execute_result"
    }
   ],
   "source": [
    "res"
   ]
  },
  {
   "cell_type": "markdown",
   "id": "27f5c4b5",
   "metadata": {},
   "source": [
    "Let's try filtering elements with ratio ~< 0.10."
   ]
  },
  {
   "cell_type": "code",
   "execution_count": 34,
   "id": "8b6ceabe",
   "metadata": {},
   "outputs": [],
   "source": [
    "all_ = pd.read_csv(\"../data/manual/mana/no_dups.csv\")"
   ]
  },
  {
   "cell_type": "code",
   "execution_count": 48,
   "id": "0903a501",
   "metadata": {},
   "outputs": [],
   "source": [
    "fit_cand = all_[((all_.elem - res.intercept) / all_.mage) < res.slope]"
   ]
  },
  {
   "cell_type": "code",
   "execution_count": 49,
   "id": "4e0b762d",
   "metadata": {},
   "outputs": [
    {
     "data": {
      "text/plain": [
       "<AxesSubplot:xlabel='mage', ylabel='elem'>"
      ]
     },
     "execution_count": 49,
     "metadata": {},
     "output_type": "execute_result"
    },
    {
     "data": {
      "image/png": "[encoded data removed]",
      "text/plain": [
       "<Figure size 504x504 with 1 Axes>"
      ]
     },
     "metadata": {
      "needs_background": "light"
     },
     "output_type": "display_data"
    }
   ],
   "source": [
    "plt.figure(figsize=(7,7))\n",
    "sns.regplot(data=fit_cand, x='mage', y='elem')"
   ]
  },
  {
   "cell_type": "code",
   "execution_count": 53,
   "id": "cdc89942",
   "metadata": {},
   "outputs": [
    {
     "data": {
      "text/plain": [
       "LinregressResult(slope=0.098547465320887, intercept=2181.673257019365, rvalue=0.9999159391593138, pvalue=9.97090934887794e-30, stderr=0.00032994311712963875, intercept_stderr=2.1325783423687277)"
      ]
     },
     "execution_count": 53,
     "metadata": {},
     "output_type": "execute_result"
    }
   ],
   "source": [
    "x, y = fit_cand.mage, fit_cand.elem\n",
    "F = stats.linregress(x, y)\n",
    "F"
   ]
  },
  {
   "cell_type": "code",
   "execution_count": 51,
   "id": "becc8316",
   "metadata": {},
   "outputs": [
    {
     "data": {
      "text/html": [
       "<div>\n",
       "<style scoped>\n",
       "    .dataframe tbody tr th:only-of-type {\n",
       "        vertical-align: middle;\n",
       "    }\n",
       "\n",
       "    .dataframe tbody tr th {\n",
       "        vertical-align: top;\n",
       "    }\n",
       "\n",
       "    .dataframe thead th {\n",
       "        text-align: right;\n",
       "    }\n",
       "</style>\n",
       "<table border=\"1\" class=\"dataframe\">\n",
       "  <thead>\n",
       "    <tr style=\"text-align: right;\">\n",
       "      <th></th>\n",
       "      <th>mage</th>\n",
       "      <th>elem</th>\n",
       "    </tr>\n",
       "  </thead>\n",
       "  <tbody>\n",
       "    <tr>\n",
       "      <th>0</th>\n",
       "      <td>8591</td>\n",
       "      <td>3028</td>\n",
       "    </tr>\n",
       "    <tr>\n",
       "      <th>3</th>\n",
       "      <td>7571</td>\n",
       "      <td>2929</td>\n",
       "    </tr>\n",
       "    <tr>\n",
       "      <th>7</th>\n",
       "      <td>5861</td>\n",
       "      <td>2761</td>\n",
       "    </tr>\n",
       "    <tr>\n",
       "      <th>8</th>\n",
       "      <td>5651</td>\n",
       "      <td>2736</td>\n",
       "    </tr>\n",
       "    <tr>\n",
       "      <th>9</th>\n",
       "      <td>5486</td>\n",
       "      <td>2721</td>\n",
       "    </tr>\n",
       "    <tr>\n",
       "      <th>10</th>\n",
       "      <td>8306</td>\n",
       "      <td>2998</td>\n",
       "    </tr>\n",
       "    <tr>\n",
       "      <th>12</th>\n",
       "      <td>7451</td>\n",
       "      <td>2914</td>\n",
       "    </tr>\n",
       "    <tr>\n",
       "      <th>13</th>\n",
       "      <td>7211</td>\n",
       "      <td>2894</td>\n",
       "    </tr>\n",
       "    <tr>\n",
       "      <th>14</th>\n",
       "      <td>6866</td>\n",
       "      <td>2860</td>\n",
       "    </tr>\n",
       "    <tr>\n",
       "      <th>15</th>\n",
       "      <td>6761</td>\n",
       "      <td>2850</td>\n",
       "    </tr>\n",
       "    <tr>\n",
       "      <th>16</th>\n",
       "      <td>6476</td>\n",
       "      <td>2820</td>\n",
       "    </tr>\n",
       "    <tr>\n",
       "      <th>17</th>\n",
       "      <td>6086</td>\n",
       "      <td>2781</td>\n",
       "    </tr>\n",
       "    <tr>\n",
       "      <th>18</th>\n",
       "      <td>5666</td>\n",
       "      <td>2741</td>\n",
       "    </tr>\n",
       "    <tr>\n",
       "      <th>19</th>\n",
       "      <td>5366</td>\n",
       "      <td>2711</td>\n",
       "    </tr>\n",
       "    <tr>\n",
       "      <th>20</th>\n",
       "      <td>5141</td>\n",
       "      <td>2687</td>\n",
       "    </tr>\n",
       "    <tr>\n",
       "      <th>21</th>\n",
       "      <td>4931</td>\n",
       "      <td>2667</td>\n",
       "    </tr>\n",
       "    <tr>\n",
       "      <th>22</th>\n",
       "      <td>4766</td>\n",
       "      <td>2652</td>\n",
       "    </tr>\n",
       "  </tbody>\n",
       "</table>\n",
       "</div>"
      ],
      "text/plain": [
       "    mage  elem\n",
       "0   8591  3028\n",
       "3   7571  2929\n",
       "7   5861  2761\n",
       "8   5651  2736\n",
       "9   5486  2721\n",
       "10  8306  2998\n",
       "12  7451  2914\n",
       "13  7211  2894\n",
       "14  6866  2860\n",
       "15  6761  2850\n",
       "16  6476  2820\n",
       "17  6086  2781\n",
       "18  5666  2741\n",
       "19  5366  2711\n",
       "20  5141  2687\n",
       "21  4931  2667\n",
       "22  4766  2652"
      ]
     },
     "execution_count": 51,
     "metadata": {},
     "output_type": "execute_result"
    }
   ],
   "source": [
    "fit_cand"
   ]
  },
  {
   "cell_type": "markdown",
   "id": "46675d78",
   "metadata": {},
   "source": [
    "Includes mainly 2nd sample samples and also Frohzone's sample.\n",
    "\n",
    "Going to make a predict from Zander's current mana."
   ]
  },
  {
   "cell_type": "code",
   "execution_count": 55,
   "id": "41c305a2",
   "metadata": {},
   "outputs": [],
   "source": [
    "x = 7736"
   ]
  },
  {
   "cell_type": "code",
   "execution_count": 56,
   "id": "2bf7f6eb",
   "metadata": {},
   "outputs": [
    {
     "data": {
      "text/plain": [
       "2944.0364487417464"
      ]
     },
     "execution_count": 56,
     "metadata": {},
     "output_type": "execute_result"
    }
   ],
   "source": [
    "F.slope * x + F.intercept"
   ]
  },
  {
   "cell_type": "markdown",
   "id": "03056dae",
   "metadata": {},
   "source": [
    "Yep! It's 2944."
   ]
  }
 ],
 "metadata": {
  "kernelspec": {
   "display_name": "Python 3",
   "language": "python",
   "name": "python3"
  },
  "language_info": {
   "codemirror_mode": {
    "name": "ipython",
    "version": 3
   },
   "file_extension": ".py",
   "mimetype": "text/x-python",
   "name": "python",
   "nbconvert_exporter": "python",
   "pygments_lexer": "ipython3",
   "version": "3.9.6"
  }
 },
 "nbformat": 4,
 "nbformat_minor": 5
}
