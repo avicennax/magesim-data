{
 "cells": [
  {
   "cell_type": "code",
   "execution_count": 32,
   "id": "4d0df681",
   "metadata": {},
   "outputs": [],
   "source": [
    "import pandas as pd\n",
    "import numpy as np\n",
    "from pathlib import Path\n",
    "import datetime as dt"
   ]
  },
  {
   "cell_type": "code",
   "execution_count": 56,
   "id": "df10217e",
   "metadata": {},
   "outputs": [],
   "source": [
    "path_str = \"../data/logs/WoWCombatLog-081821_002436.txt\"\n",
    "p = Path(path_str)\n",
    "lines = p.read_text().split('\\n')"
   ]
  },
  {
   "cell_type": "code",
   "execution_count": 58,
   "id": "ed2b6c63",
   "metadata": {},
   "outputs": [],
   "source": [
    "summon_sessions = []\n",
    "for line in lines:\n",
    "    if \"SPELL_SUMMON\" in line and \"Water Elemental\" in line:\n",
    "        summon_sessions.append([])\n",
    "    if \"SPELL_CAST_SUCCESS\" in line and \"Waterbolt\" in line:\n",
    "        summon_sessions[-1].append(line)"
   ]
  },
  {
   "cell_type": "markdown",
   "id": "df9db185",
   "metadata": {},
   "source": [
    "Lets look at the cast deltas within each session."
   ]
  },
  {
   "cell_type": "code",
   "execution_count": 59,
   "id": "474f19ca",
   "metadata": {},
   "outputs": [],
   "source": [
    "timestamps = []\n",
    "for sess in summon_sessions:\n",
    "    timestamps.append(\n",
    "        pd.Series([line.split(\" \")[1] for line in sess], dtype='m8[ns]').diff()\n",
    "    )"
   ]
  },
  {
   "cell_type": "code",
   "execution_count": 60,
   "id": "a206a35c",
   "metadata": {},
   "outputs": [
    {
     "data": {
      "text/plain": [
       "[0                       NaT\n",
       " 1    0 days 00:00:03.250000\n",
       " 2    0 days 00:00:03.151000\n",
       " 3    0 days 00:00:03.349000\n",
       " 4    0 days 00:00:03.234000\n",
       " 5    0 days 00:00:03.249000\n",
       " 6    0 days 00:00:03.251000\n",
       " 7    0 days 00:00:03.232000\n",
       " 8    0 days 00:00:03.234000\n",
       " 9    0 days 00:00:03.233000\n",
       " 10   0 days 00:00:03.250000\n",
       " 11   0 days 00:00:03.216000\n",
       " 12   0 days 00:00:03.217000\n",
       " dtype: timedelta64[ns],\n",
       " 0                       NaT\n",
       " 1    0 days 00:00:03.316000\n",
       " 2    0 days 00:00:03.216000\n",
       " 3    0 days 00:00:03.184000\n",
       " 4    0 days 00:00:03.316000\n",
       " 5    0 days 00:00:03.150000\n",
       " 6    0 days 00:00:03.252000\n",
       " 7    0 days 00:00:03.315000\n",
       " 8    0 days 00:00:03.150000\n",
       " 9    0 days 00:00:03.317000\n",
       " 10   0 days 00:00:03.233000\n",
       " 11   0 days 00:00:03.168000\n",
       " 12   0 days 00:00:03.299000\n",
       " dtype: timedelta64[ns]]"
      ]
     },
     "execution_count": 60,
     "metadata": {},
     "output_type": "execute_result"
    }
   ],
   "source": [
    "timestamps"
   ]
  },
  {
   "cell_type": "markdown",
   "id": "ae502a7f",
   "metadata": {},
   "source": [
    "This from auto-attacking; from manually clicking looks like I can't beat 2.95? Mmm, I'll wrap this in a script run against more logs."
   ]
  }
 ],
 "metadata": {
  "kernelspec": {
   "display_name": "Python 3",
   "language": "python",
   "name": "python3"
  },
  "language_info": {
   "codemirror_mode": {
    "name": "ipython",
    "version": 3
   },
   "file_extension": ".py",
   "mimetype": "text/x-python",
   "name": "python",
   "nbconvert_exporter": "python",
   "pygments_lexer": "ipython3",
   "version": "3.9.6"
  }
 },
 "nbformat": 4,
 "nbformat_minor": 5
}
