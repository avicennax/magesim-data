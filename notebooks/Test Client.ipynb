{
 "cells": [
  {
   "cell_type": "code",
   "execution_count": 44,
   "id": "38c9302f",
   "metadata": {},
   "outputs": [],
   "source": [
    "import json\n",
    "\n",
    "from gql import gql, Client\n",
    "from gql.transport.aiohttp import AIOHTTPTransport"
   ]
  },
  {
   "cell_type": "code",
   "execution_count": 45,
   "id": "3f4bbc45",
   "metadata": {},
   "outputs": [],
   "source": [
    "with open(\"../.oauth\", \"r\") as fobj:\n",
    "     cid, secret = [s.rstrip('\\n') for s in fobj.readlines()]"
   ]
  },
  {
   "cell_type": "code",
   "execution_count": 46,
   "id": "1bb9ada2",
   "metadata": {
    "scrolled": true
   },
   "outputs": [],
   "source": [
    "%%capture output\n",
    "%%bash -s \"$cid\" \"$secret\"\n",
    "curl -u $1:$2 -d grant_type=client_credentials https://classic.warcraftlogs.com/oauth/token"
   ]
  },
  {
   "cell_type": "code",
   "execution_count": 47,
   "id": "ef2b05fd",
   "metadata": {},
   "outputs": [],
   "source": [
    "token = json.loads(output.stdout)['access_token']"
   ]
  },
  {
   "cell_type": "code",
   "execution_count": 48,
   "id": "b5aa814e",
   "metadata": {},
   "outputs": [],
   "source": [
    "transport = AIOHTTPTransport(\n",
    "    url='https://classic.warcraftlogs.com/api/v2/client', \n",
    "    headers={'Authorization': 'Bearer ' + token}, \n",
    "    timeout=120\n",
    ")\n",
    "client = Client(transport=transport, fetch_schema_from_transport=True)"
   ]
  },
  {
   "cell_type": "code",
   "execution_count": 49,
   "id": "94532be0",
   "metadata": {},
   "outputs": [],
   "source": [
    "query = \"\"\"\n",
    "{\n",
    "  reportData {\n",
    "    report(code: \"2z3G1AFDbtCXVYcf\") {\n",
    "      guild {\n",
    "        name\n",
    "      }\n",
    "    }\n",
    "  }\n",
    "}\n",
    "\"\"\""
   ]
  },
  {
   "cell_type": "code",
   "execution_count": 50,
   "id": "025b6fa8",
   "metadata": {},
   "outputs": [],
   "source": [
    "res = await client.execute_async(gql(query))"
   ]
  },
  {
   "cell_type": "code",
   "execution_count": 51,
   "id": "d92f90e5",
   "metadata": {},
   "outputs": [
    {
     "data": {
      "text/plain": [
       "{'reportData': {'report': {'guild': {'name': 'Vanguard'}}}}"
      ]
     },
     "execution_count": 51,
     "metadata": {},
     "output_type": "execute_result"
    }
   ],
   "source": [
    "res"
   ]
  },
  {
   "cell_type": "code",
   "execution_count": null,
   "id": "929ba362",
   "metadata": {},
   "outputs": [],
   "source": []
  }
 ],
 "metadata": {
  "kernelspec": {
   "display_name": "Python 3",
   "language": "python",
   "name": "python3"
  },
  "language_info": {
   "codemirror_mode": {
    "name": "ipython",
    "version": 3
   },
   "file_extension": ".py",
   "mimetype": "text/x-python",
   "name": "python",
   "nbconvert_exporter": "python",
   "pygments_lexer": "ipython3",
   "version": "3.9.6"
  }
 },
 "nbformat": 4,
 "nbformat_minor": 5
}
