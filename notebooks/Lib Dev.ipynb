{
 "cells": [
  {
   "cell_type": "code",
   "execution_count": 10,
   "id": "23d00bbd",
   "metadata": {},
   "outputs": [],
   "source": [
    "%load_ext autoreload\n",
    "%autoreload 2"
   ]
  },
  {
   "cell_type": "code",
   "execution_count": 1,
   "id": "7ecb3eed",
   "metadata": {},
   "outputs": [],
   "source": [
    "import sys"
   ]
  },
  {
   "cell_type": "code",
   "execution_count": 3,
   "id": "48fd1be3",
   "metadata": {},
   "outputs": [],
   "source": [
    "src = '/Users/shaxby/src/personal/magesim-data/'\n",
    "sys.path.append(src)"
   ]
  },
  {
   "cell_type": "code",
   "execution_count": 6,
   "id": "57bc28ec",
   "metadata": {},
   "outputs": [],
   "source": [
    "from wcl import query"
   ]
  },
  {
   "cell_type": "code",
   "execution_count": null,
   "id": "58c86d69",
   "metadata": {},
   "outputs": [],
   "source": []
  }
 ],
 "metadata": {
  "kernelspec": {
   "display_name": "Python 3",
   "language": "python",
   "name": "python3"
  },
  "language_info": {
   "codemirror_mode": {
    "name": "ipython",
    "version": 3
   },
   "file_extension": ".py",
   "mimetype": "text/x-python",
   "name": "python",
   "nbconvert_exporter": "python",
   "pygments_lexer": "ipython3",
   "version": "3.9.6"
  }
 },
 "nbformat": 4,
 "nbformat_minor": 5
}
