{
 "cells": [
  {
   "cell_type": "code",
   "execution_count": 1,
   "id": "d827a498",
   "metadata": {},
   "outputs": [],
   "source": [
    "%load_ext autoreload\n",
    "%autoreload 2"
   ]
  },
  {
   "cell_type": "code",
   "execution_count": 5,
   "id": "51c62eea",
   "metadata": {},
   "outputs": [],
   "source": [
    "import sys"
   ]
  },
  {
   "cell_type": "code",
   "execution_count": 6,
   "id": "1a9995c1",
   "metadata": {},
   "outputs": [],
   "source": [
    "src = '/Users/shaxby/src/personal/magesim-data/'\n",
    "sys.path.append(src)"
   ]
  },
  {
   "cell_type": "code",
   "execution_count": 9,
   "id": "b1ebbe02",
   "metadata": {},
   "outputs": [],
   "source": [
    "from wcl import auth"
   ]
  },
  {
   "cell_type": "code",
   "execution_count": null,
   "id": "02e9d76f",
   "metadata": {},
   "outputs": [],
   "source": []
  }
 ],
 "metadata": {
  "kernelspec": {
   "display_name": "Python 3",
   "language": "python",
   "name": "python3"
  },
  "language_info": {
   "codemirror_mode": {
    "name": "ipython",
    "version": 3
   },
   "file_extension": ".py",
   "mimetype": "text/x-python",
   "name": "python",
   "nbconvert_exporter": "python",
   "pygments_lexer": "ipython3",
   "version": "3.9.6"
  }
 },
 "nbformat": 4,
 "nbformat_minor": 5
}
